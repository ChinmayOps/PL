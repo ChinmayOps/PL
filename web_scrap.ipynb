{
 "cells": [
  {
   "cell_type": "code",
   "execution_count": 47,
   "id": "7de5302b-41be-4846-9ca6-a3309af6b780",
   "metadata": {},
   "outputs": [],
   "source": [
    "import requests\n",
    "from bs4 import BeautifulSoup\n",
    "import json"
   ]
  },
  {
   "cell_type": "code",
   "execution_count": 3,
   "id": "024f8ebc-51fd-4f38-a972-b3c15ecabcbc",
   "metadata": {},
   "outputs": [],
   "source": [
    "url = 'https://www.meesho.com/stylish-casual-block-heels-for-women/p/5y67an'"
   ]
  },
  {
   "cell_type": "code",
   "execution_count": 49,
   "id": "7c40b744-e6bc-451a-b06a-1fe44eddc32b",
   "metadata": {},
   "outputs": [],
   "source": [
    "response = requests.get(url)\n",
    "soup = BeautifulSoup(response.content,'html.parser')\n"
   ]
  },
  {
   "cell_type": "code",
   "execution_count": 23,
   "id": "32f04cca-4fb3-492c-bd0f-2fe8e350d6e0",
   "metadata": {},
   "outputs": [
    {
     "data": {
      "text/plain": [
       "[<script type=\"application/ld+json\">{\"@context\":\"https://schema.org\",\"@type\":\"Organization\",\"url\":\"https://www.meesho.com\",\"logo\":\"https://www.meesho.com/assets/svgicons/meeshoLogo.svg\",\"name\":\"Meesho\",\"contactPoint\":[{\"@type\":\"ContactPoint\",\"email\":\"query@meesho.com\",\"contactType\":\"Customer Service\"}],\"sameAs\":[\"https://x.com/Meesho_Official\",\"https://www.facebook.com/meeshosupply\",\"https://www.instagram.com/meeshoapp\",\"https://www.youtube.com/channel/UCaGHIRKYUYlaI_ZAt2hxpjw\",\"https://www.linkedin.com/company/meesho\"]}</script>,\n",
       " <script type=\"application/ld+json\">{\"@context\":\"http://schema.org\",\"@type\":\"Product\",\"name\":\"Stylish Casual Block heels for women\",\"image\":[\"https://images.meesho.com/images/products/359727215/bqmlz_512.webp\",\"https://images.meesho.com/images/products/359727215/lapwh_512.webp\"],\"sku\":\"5y67an\",\"mpn\":\"5y67an\",\"brand\":{\"@type\":\"Thing\",\"name\":\"Deva Ji Traders\"},\"offers\":{\"@type\":\"Offer\",\"priceCurrency\":\"INR\",\"price\":249,\"availability\":\"OutOfStock\",\"url\":\"https://www.meesho.com/stylish-casual-block-heels-for-women/p/5y67an\"},\"review\":[{\"@type\":\"Review\",\"author\":{\"@type\":\"Person\",\"name\":\"Mangla Bopche\"},\"datePublished\":\"2025-04-18 21:11:57\",\"reviewBody\":\"It's very classy and aesthetic💗. Perfect fit and colour💗\",\"reviewRating\":{\"@type\":\"Rating\",\"bestRating\":\"5\",\"ratingValue\":5,\"worstRating\":\"1\"}},{\"@type\":\"Review\",\"author\":{\"@type\":\"Person\",\"name\":\"Ruhy Nasim \"},\"datePublished\":\"2024-11-30 20:06:48\",\"reviewBody\":\"All is fine but just doesn't look that much satisfying as picture . Rest is well. In 257 is ok. Facing only one issue that it's HEELS ticking sound\",\"reviewRating\":{\"@type\":\"Rating\",\"bestRating\":\"5\",\"ratingValue\":5,\"worstRating\":\"1\"}}],\"aggregateRating\":{\"@type\":\"AggregateRating\",\"ratingValue\":4.1,\"reviewCount\":3177}}</script>,\n",
       " <script type=\"application/ld+json\">{\"@context\":\"https://schema.org\",\"@type\":\"BreadcrumbList\",\"itemListElement\":[{\"@type\":\"ListItem\",\"position\":1,\"name\":\"Home\",\"item\":\"https://www.meesho.com/\"},{\"@type\":\"ListItem\",\"position\":2,\"name\":\"Women\",\"item\":\"https://www.meesho.com/women/pl/44l4\"},{\"@type\":\"ListItem\",\"position\":3,\"name\":\"Women Footwear\",\"item\":\"https://www.meesho.com/women-footwear/pl/460\"},{\"@type\":\"ListItem\",\"position\":4,\"name\":\"Heels\",\"item\":\"https://www.meesho.com/heels/pl/1oy8\"},{\"@type\":\"ListItem\",\"position\":5,\"name\":\"Stylish Casual Block heels for women\",\"item\":\"https://www.meesho.com/stylish-casual-block-heels-for-women/p/5y67an\"}]}</script>]"
      ]
     },
     "execution_count": 23,
     "metadata": {},
     "output_type": "execute_result"
    }
   ],
   "source": [
    "scripts = soup.find_all('script', type = 'application/ld+json')\n",
    "scripts"
   ]
  },
  {
   "cell_type": "code",
   "execution_count": 25,
   "id": "a75eab71-fa22-4643-ae37-01a40396be93",
   "metadata": {},
   "outputs": [
    {
     "name": "stdout",
     "output_type": "stream",
     "text": [
      "Customer Name : Mangla Bopche\n",
      "Rating : 5\n",
      "Review : It's very classy and aesthetic💗. Perfect fit and colour💗\n",
      "Tag : Not available in static HTML\n",
      "Customer Name : Ruhy Nasim \n",
      "Rating : 5\n",
      "Review : All is fine but just doesn't look that much satisfying as picture . Rest is well. In 257 is ok. Facing only one issue that it's HEELS ticking sound\n",
      "Tag : Not available in static HTML\n"
     ]
    }
   ],
   "source": [
    "for script in scripts:\n",
    "    try:\n",
    "        data = json.loads(script.string)\n",
    "        if \"review\" in data:\n",
    "            for review in data[\"review\"]:\n",
    "                print(f\"Customer Name : {review['author']['name']}\")\n",
    "                print(f\"Rating : {review['reviewRating']['ratingValue']}\")\n",
    "                print(f\"Review : {review['reviewBody']}\")\n",
    "                print(f\"Tag : Not available in static HTML\")\n",
    "    except Exception as e:\n",
    "        continue"
   ]
  },
  {
   "cell_type": "code",
   "execution_count": 27,
   "id": "8d177334-e9f1-4bfa-8e45-050643d0287e",
   "metadata": {},
   "outputs": [
    {
     "name": "stdout",
     "output_type": "stream",
     "text": [
      "Overall rating: 4.1\n"
     ]
    }
   ],
   "source": [
    "rating_tag = soup.find('h1',{'class' : 'sc-eDvSVe cdZTwf'})\n",
    "print(\"Overall rating:\",rating_tag.get_text())"
   ]
  },
  {
   "cell_type": "code",
   "execution_count": 29,
   "id": "bed27460-9de7-4bc1-856f-46d1f4e993c9",
   "metadata": {},
   "outputs": [
    {
     "name": "stdout",
     "output_type": "stream",
     "text": [
      "Product Name: Stylish Casual Block heels for women\n",
      "Price: INR 249\n"
     ]
    }
   ],
   "source": [
    "# --- Additional Features Below (without changing original) ---\n",
    "\n",
    "# Extract product name and price from structured data\n",
    "for script in scripts:\n",
    "    try:\n",
    "        data = json.loads(script.string)\n",
    "        if data.get(\"@type\") == \"Product\":\n",
    "            print(\"Product Name:\", data.get(\"name\"))\n",
    "            \n",
    "            # Extract price\n",
    "            price = data.get(\"offers\", {}).get(\"price\")\n",
    "            currency = data.get(\"offers\", {}).get(\"priceCurrency\")\n",
    "            if price:\n",
    "                print(\"Price:\", f\"{currency} {price}\")\n",
    "            break\n",
    "    except:\n",
    "        continue\n"
   ]
  },
  {
   "cell_type": "code",
   "execution_count": 35,
   "id": "ce040fa7-efcc-4d2b-86aa-ef99b8acd38a",
   "metadata": {},
   "outputs": [
    {
     "name": "stdout",
     "output_type": "stream",
     "text": [
      "                                   Title    Price Availability Rating\n",
      "0                   A Light in the Attic  Â£51.77     In stock  Three\n",
      "1                     Tipping the Velvet  Â£53.74     In stock    One\n",
      "2                             Soumission  Â£50.10     In stock    One\n",
      "3                          Sharp Objects  Â£47.82     In stock   Four\n",
      "4  Sapiens: A Brief History of Humankind  Â£54.23     In stock   Five\n"
     ]
    }
   ],
   "source": [
    "import requests\n",
    "from bs4 import BeautifulSoup\n",
    "import pandas as pd\n",
    "\n",
    "# Base URL\n",
    "base_url = 'http://books.toscrape.com/catalogue/page-{}.html'\n",
    "\n",
    "# Lists to store data\n",
    "titles = []\n",
    "prices = []\n",
    "availabilities = []\n",
    "ratings = []\n",
    "\n",
    "# Loop through the first 5 pages\n",
    "for page in range(1, 6):\n",
    "    url = base_url.format(page)\n",
    "    response = requests.get(url)\n",
    "    if response.status_code != 200:\n",
    "        print(f\"Failed to retrieve page {page}\")\n",
    "        continue\n",
    "\n",
    "    soup = BeautifulSoup(response.text, 'html.parser')\n",
    "    books = soup.find_all('article', class_='product_pod')\n",
    "\n",
    "    for book in books:\n",
    "        # Title\n",
    "        title = book.h3.a['title']\n",
    "        titles.append(title)\n",
    "\n",
    "        # Price\n",
    "        price = book.find('p', class_='price_color').text.strip()\n",
    "        prices.append(price)\n",
    "\n",
    "        # Availability\n",
    "        availability = book.find('p', class_='instock availability').text.strip()\n",
    "        availabilities.append(availability)\n",
    "\n",
    "        # Rating\n",
    "        rating_class = book.p['class']\n",
    "        rating = rating_class[1] if len(rating_class) > 1 else 'No rating'\n",
    "        ratings.append(rating)\n",
    "\n",
    "# Create DataFrame\n",
    "df = pd.DataFrame({\n",
    "    'Title': titles,\n",
    "    'Price': prices,\n",
    "    'Availability': availabilities,\n",
    "    'Rating': ratings\n",
    "})\n",
    "\n",
    "# Display the first few rows\n",
    "print(df.head())\n"
   ]
  },
  {
   "cell_type": "code",
   "execution_count": 39,
   "id": "2b869897-fb4b-4755-963a-19cdf27c339a",
   "metadata": {},
   "outputs": [],
   "source": [
    "df['Price'] = df['Price'].str.replace('Â£', '').astype(float)\n"
   ]
  },
  {
   "cell_type": "code",
   "execution_count": 41,
   "id": "2f42283d-f6ce-4c13-92c7-b3903f918cb9",
   "metadata": {},
   "outputs": [
    {
     "name": "stdout",
     "output_type": "stream",
     "text": [
      "Books in stock: 100\n"
     ]
    }
   ],
   "source": [
    "in_stock = df['Availability'].str.contains('In stock').sum()\n",
    "print(f\"Books in stock: {in_stock}\")\n"
   ]
  },
  {
   "cell_type": "code",
   "execution_count": 43,
   "id": "85248bc0-d3fa-4526-a0a1-5609ac12aa5e",
   "metadata": {},
   "outputs": [
    {
     "name": "stdout",
     "output_type": "stream",
     "text": [
      "Rating\n",
      "Three    22\n",
      "One      22\n",
      "Five     19\n",
      "Two      19\n",
      "Four     18\n",
      "Name: count, dtype: int64\n"
     ]
    }
   ],
   "source": [
    "rating_counts = df['Rating'].value_counts()\n",
    "print(rating_counts)\n"
   ]
  },
  {
   "cell_type": "code",
   "execution_count": null,
   "id": "1e73afc9-ef9e-47f9-af39-ad17c428ce78",
   "metadata": {},
   "outputs": [],
   "source": []
  }
 ],
 "metadata": {
  "kernelspec": {
   "display_name": "Python 3 (ipykernel)",
   "language": "python",
   "name": "python3"
  },
  "language_info": {
   "codemirror_mode": {
    "name": "ipython",
    "version": 3
   },
   "file_extension": ".py",
   "mimetype": "text/x-python",
   "name": "python",
   "nbconvert_exporter": "python",
   "pygments_lexer": "ipython3",
   "version": "3.12.7"
  }
 },
 "nbformat": 4,
 "nbformat_minor": 5
}
